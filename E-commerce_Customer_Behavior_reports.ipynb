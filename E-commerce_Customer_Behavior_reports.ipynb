{
 "cells": [
  {
   "cell_type": "markdown",
   "metadata": {},
   "source": [
    "# **E-commerce Customer Behavior Analysis** \n",
    "___"
   ]
  },
  {
   "cell_type": "markdown",
   "metadata": {},
   "source": [
    "# `00` Import Dependencies"
   ]
  },
  {
   "cell_type": "code",
   "execution_count": null,
   "metadata": {},
   "outputs": [],
   "source": [
    "# Install Dependencies\n",
    "# pip install yellowbrick pyspark kafka-python\n"
   ]
  },
  {
   "cell_type": "code",
   "execution_count": 1,
   "metadata": {},
   "outputs": [
    {
     "name": "stderr",
     "output_type": "stream",
     "text": [
      "/tmp/ipykernel_46481/3561607471.py:2: DeprecationWarning: \n",
      "Pyarrow will become a required dependency of pandas in the next major release of pandas (pandas 3.0),\n",
      "(to allow more performant data types, such as the Arrow string type, and better interoperability with other libraries)\n",
      "but was not found to be installed on your system.\n",
      "If this would cause problems for you,\n",
      "please provide us feedback at https://github.com/pandas-dev/pandas/issues/54466\n",
      "        \n",
      "  import pandas as pd\n"
     ]
    }
   ],
   "source": [
    "# For Manipulation\n",
    "import pandas as pd\n",
    "import numpy as np\n",
    "# For Visualization\n",
    "import matplotlib.pyplot as plt\n",
    "import seaborn as sns\n",
    "# For pyspark usage\n",
    "from pyspark.sql import SparkSession\n",
    "import pyspark.sql.functions as fn\n",
    "from pyspark.sql.functions import when\n",
    "from pyspark.sql.functions import col\n",
    "from pyspark.ml.feature import StringIndexer, StandardScaler\n",
    "from pyspark.ml.feature import VectorAssembler\n",
    "from pyspark.ml.classification import LogisticRegression\n",
    "from pyspark.ml import Pipeline\n",
    "from pyspark.ml.evaluation import MulticlassClassificationEvaluator\n",
    "from pyspark.mllib.evaluation import MulticlassMetrics\n",
    "from pyspark.ml.feature import StandardScaler\n",
    "from pyspark.ml.clustering import KMeans\n",
    "from pyspark.ml.evaluation import ClusteringEvaluator"
   ]
  },
  {
   "cell_type": "markdown",
   "metadata": {},
   "source": [
    "# `01` Initialize Spark Session and Read Data"
   ]
  },
  {
   "cell_type": "code",
   "execution_count": 42,
   "metadata": {},
   "outputs": [],
   "source": [
    "# Initializing Spark Session\n",
    "spark = SparkSession.builder.appName(\"CustomerSegmentation\").getOrCreate()"
   ]
  },
  {
   "cell_type": "code",
   "execution_count": 43,
   "metadata": {},
   "outputs": [
    {
     "name": "stdout",
     "output_type": "stream",
     "text": [
      "+-----------+------+---+-------------+---------------+-----------+---------------+--------------+----------------+------------------------+------------------+\n",
      "|customer_id|gender|age|         city|membership_type|total_spend|items_purchased|average_rating|discount_applied|days_since_last_purchase|satisfaction_level|\n",
      "+-----------+------+---+-------------+---------------+-----------+---------------+--------------+----------------+------------------------+------------------+\n",
      "|        101|Female| 29|     New York|           Gold|     1120.2|             14|           4.6|            true|                      25|         Satisfied|\n",
      "|        102|  Male| 34|  Los Angeles|         Silver|      780.5|             11|           4.1|           false|                      18|           Neutral|\n",
      "|        103|Female| 43|      Chicago|         Bronze|     510.75|              9|           3.4|            true|                      42|       Unsatisfied|\n",
      "|        104|  Male| 30|San Francisco|           Gold|     1480.3|             19|           4.7|           false|                      12|         Satisfied|\n",
      "|        105|  Male| 27|        Miami|         Silver|      720.4|             13|           4.0|            true|                      55|       Unsatisfied|\n",
      "|        106|Female| 37|      Houston|         Bronze|      440.8|              8|           3.1|           false|                      22|           Neutral|\n",
      "|        107|Female| 31|     New York|           Gold|     1150.6|             15|           4.5|            true|                      28|         Satisfied|\n",
      "|        108|  Male| 35|  Los Angeles|         Silver|      800.9|             12|           4.2|           false|                      14|           Neutral|\n",
      "|        109|Female| 41|      Chicago|         Bronze|     495.25|             10|           3.6|            true|                      40|       Unsatisfied|\n",
      "|        110|  Male| 28|San Francisco|           Gold|     1520.1|             21|           4.8|           false|                       9|         Satisfied|\n",
      "+-----------+------+---+-------------+---------------+-----------+---------------+--------------+----------------+------------------------+------------------+\n",
      "only showing top 10 rows\n",
      "\n"
     ]
    }
   ],
   "source": [
    "# Loading The Dataset\n",
    "customer_data = spark.read.csv(\"E-commerce Customer Behavior.csv\", header=True, inferSchema=True)\n",
    "customer_data.show(10)\n"
   ]
  },
  {
   "cell_type": "markdown",
   "metadata": {},
   "source": [
    "# `02` Basic EDA"
   ]
  },
  {
   "cell_type": "code",
   "execution_count": 44,
   "metadata": {},
   "outputs": [
    {
     "name": "stdout",
     "output_type": "stream",
     "text": [
      "root\n",
      " |-- customer_id: integer (nullable = true)\n",
      " |-- gender: string (nullable = true)\n",
      " |-- age: integer (nullable = true)\n",
      " |-- city: string (nullable = true)\n",
      " |-- membership_type: string (nullable = true)\n",
      " |-- total_spend: double (nullable = true)\n",
      " |-- items_purchased: integer (nullable = true)\n",
      " |-- average_rating: double (nullable = true)\n",
      " |-- discount_applied: boolean (nullable = true)\n",
      " |-- days_since_last_purchase: integer (nullable = true)\n",
      " |-- satisfaction_level: string (nullable = true)\n",
      "\n"
     ]
    }
   ],
   "source": [
    "customer_data.printSchema()"
   ]
  },
  {
   "cell_type": "code",
   "execution_count": 45,
   "metadata": {},
   "outputs": [
    {
     "data": {
      "text/html": [
       "<div>\n",
       "<style scoped>\n",
       "    .dataframe tbody tr th:only-of-type {\n",
       "        vertical-align: middle;\n",
       "    }\n",
       "\n",
       "    .dataframe tbody tr th {\n",
       "        vertical-align: top;\n",
       "    }\n",
       "\n",
       "    .dataframe thead th {\n",
       "        text-align: right;\n",
       "    }\n",
       "</style>\n",
       "<table border=\"1\" class=\"dataframe\">\n",
       "  <thead>\n",
       "    <tr style=\"text-align: right;\">\n",
       "      <th></th>\n",
       "      <th>count</th>\n",
       "      <th>unique</th>\n",
       "      <th>top</th>\n",
       "      <th>freq</th>\n",
       "      <th>mean</th>\n",
       "      <th>std</th>\n",
       "      <th>min</th>\n",
       "      <th>25%</th>\n",
       "      <th>50%</th>\n",
       "      <th>75%</th>\n",
       "      <th>max</th>\n",
       "    </tr>\n",
       "  </thead>\n",
       "  <tbody>\n",
       "    <tr>\n",
       "      <th>customer_id</th>\n",
       "      <td>350.0</td>\n",
       "      <td>NaN</td>\n",
       "      <td>NaN</td>\n",
       "      <td>NaN</td>\n",
       "      <td>275.5</td>\n",
       "      <td>101.180532</td>\n",
       "      <td>101.0</td>\n",
       "      <td>188.25</td>\n",
       "      <td>275.5</td>\n",
       "      <td>362.75</td>\n",
       "      <td>450.0</td>\n",
       "    </tr>\n",
       "    <tr>\n",
       "      <th>gender</th>\n",
       "      <td>350</td>\n",
       "      <td>2</td>\n",
       "      <td>Female</td>\n",
       "      <td>175</td>\n",
       "      <td>NaN</td>\n",
       "      <td>NaN</td>\n",
       "      <td>NaN</td>\n",
       "      <td>NaN</td>\n",
       "      <td>NaN</td>\n",
       "      <td>NaN</td>\n",
       "      <td>NaN</td>\n",
       "    </tr>\n",
       "    <tr>\n",
       "      <th>age</th>\n",
       "      <td>350.0</td>\n",
       "      <td>NaN</td>\n",
       "      <td>NaN</td>\n",
       "      <td>NaN</td>\n",
       "      <td>33.597143</td>\n",
       "      <td>4.870882</td>\n",
       "      <td>26.0</td>\n",
       "      <td>30.0</td>\n",
       "      <td>32.5</td>\n",
       "      <td>37.0</td>\n",
       "      <td>43.0</td>\n",
       "    </tr>\n",
       "    <tr>\n",
       "      <th>city</th>\n",
       "      <td>350</td>\n",
       "      <td>6</td>\n",
       "      <td>New York</td>\n",
       "      <td>59</td>\n",
       "      <td>NaN</td>\n",
       "      <td>NaN</td>\n",
       "      <td>NaN</td>\n",
       "      <td>NaN</td>\n",
       "      <td>NaN</td>\n",
       "      <td>NaN</td>\n",
       "      <td>NaN</td>\n",
       "    </tr>\n",
       "    <tr>\n",
       "      <th>membership_type</th>\n",
       "      <td>350</td>\n",
       "      <td>3</td>\n",
       "      <td>Gold</td>\n",
       "      <td>117</td>\n",
       "      <td>NaN</td>\n",
       "      <td>NaN</td>\n",
       "      <td>NaN</td>\n",
       "      <td>NaN</td>\n",
       "      <td>NaN</td>\n",
       "      <td>NaN</td>\n",
       "      <td>NaN</td>\n",
       "    </tr>\n",
       "    <tr>\n",
       "      <th>total_spend</th>\n",
       "      <td>350.0</td>\n",
       "      <td>NaN</td>\n",
       "      <td>NaN</td>\n",
       "      <td>NaN</td>\n",
       "      <td>845.381714</td>\n",
       "      <td>362.058695</td>\n",
       "      <td>410.8</td>\n",
       "      <td>502.0</td>\n",
       "      <td>775.2</td>\n",
       "      <td>1160.6</td>\n",
       "      <td>1520.1</td>\n",
       "    </tr>\n",
       "    <tr>\n",
       "      <th>items_purchased</th>\n",
       "      <td>350.0</td>\n",
       "      <td>NaN</td>\n",
       "      <td>NaN</td>\n",
       "      <td>NaN</td>\n",
       "      <td>12.6</td>\n",
       "      <td>4.155984</td>\n",
       "      <td>7.0</td>\n",
       "      <td>9.0</td>\n",
       "      <td>12.0</td>\n",
       "      <td>15.0</td>\n",
       "      <td>21.0</td>\n",
       "    </tr>\n",
       "    <tr>\n",
       "      <th>average_rating</th>\n",
       "      <td>350.0</td>\n",
       "      <td>NaN</td>\n",
       "      <td>NaN</td>\n",
       "      <td>NaN</td>\n",
       "      <td>4.019143</td>\n",
       "      <td>0.580539</td>\n",
       "      <td>3.0</td>\n",
       "      <td>3.5</td>\n",
       "      <td>4.1</td>\n",
       "      <td>4.5</td>\n",
       "      <td>4.9</td>\n",
       "    </tr>\n",
       "    <tr>\n",
       "      <th>discount_applied</th>\n",
       "      <td>350</td>\n",
       "      <td>2</td>\n",
       "      <td>True</td>\n",
       "      <td>175</td>\n",
       "      <td>NaN</td>\n",
       "      <td>NaN</td>\n",
       "      <td>NaN</td>\n",
       "      <td>NaN</td>\n",
       "      <td>NaN</td>\n",
       "      <td>NaN</td>\n",
       "      <td>NaN</td>\n",
       "    </tr>\n",
       "    <tr>\n",
       "      <th>days_since_last_purchase</th>\n",
       "      <td>350.0</td>\n",
       "      <td>NaN</td>\n",
       "      <td>NaN</td>\n",
       "      <td>NaN</td>\n",
       "      <td>26.588571</td>\n",
       "      <td>13.440813</td>\n",
       "      <td>9.0</td>\n",
       "      <td>15.0</td>\n",
       "      <td>23.0</td>\n",
       "      <td>38.0</td>\n",
       "      <td>63.0</td>\n",
       "    </tr>\n",
       "    <tr>\n",
       "      <th>satisfaction_level</th>\n",
       "      <td>348</td>\n",
       "      <td>3</td>\n",
       "      <td>Satisfied</td>\n",
       "      <td>125</td>\n",
       "      <td>NaN</td>\n",
       "      <td>NaN</td>\n",
       "      <td>NaN</td>\n",
       "      <td>NaN</td>\n",
       "      <td>NaN</td>\n",
       "      <td>NaN</td>\n",
       "      <td>NaN</td>\n",
       "    </tr>\n",
       "  </tbody>\n",
       "</table>\n",
       "</div>"
      ],
      "text/plain": [
       "                          count unique        top freq        mean  \\\n",
       "customer_id               350.0    NaN        NaN  NaN       275.5   \n",
       "gender                      350      2     Female  175         NaN   \n",
       "age                       350.0    NaN        NaN  NaN   33.597143   \n",
       "city                        350      6   New York   59         NaN   \n",
       "membership_type             350      3       Gold  117         NaN   \n",
       "total_spend               350.0    NaN        NaN  NaN  845.381714   \n",
       "items_purchased           350.0    NaN        NaN  NaN        12.6   \n",
       "average_rating            350.0    NaN        NaN  NaN    4.019143   \n",
       "discount_applied            350      2       True  175         NaN   \n",
       "days_since_last_purchase  350.0    NaN        NaN  NaN   26.588571   \n",
       "satisfaction_level          348      3  Satisfied  125         NaN   \n",
       "\n",
       "                                 std    min     25%    50%     75%     max  \n",
       "customer_id               101.180532  101.0  188.25  275.5  362.75   450.0  \n",
       "gender                           NaN    NaN     NaN    NaN     NaN     NaN  \n",
       "age                         4.870882   26.0    30.0   32.5    37.0    43.0  \n",
       "city                             NaN    NaN     NaN    NaN     NaN     NaN  \n",
       "membership_type                  NaN    NaN     NaN    NaN     NaN     NaN  \n",
       "total_spend               362.058695  410.8   502.0  775.2  1160.6  1520.1  \n",
       "items_purchased             4.155984    7.0     9.0   12.0    15.0    21.0  \n",
       "average_rating              0.580539    3.0     3.5    4.1     4.5     4.9  \n",
       "discount_applied                 NaN    NaN     NaN    NaN     NaN     NaN  \n",
       "days_since_last_purchase   13.440813    9.0    15.0   23.0    38.0    63.0  \n",
       "satisfaction_level               NaN    NaN     NaN    NaN     NaN     NaN  "
      ]
     },
     "execution_count": 45,
     "metadata": {},
     "output_type": "execute_result"
    }
   ],
   "source": [
    "customer_df = customer_data.toPandas()\n",
    "customer_df.describe(include= 'all').T"
   ]
  },
  {
   "cell_type": "code",
   "execution_count": 46,
   "metadata": {},
   "outputs": [
    {
     "data": {
      "text/plain": [
       "customer_id                 0\n",
       "gender                      0\n",
       "age                         0\n",
       "city                        0\n",
       "membership_type             0\n",
       "total_spend                 0\n",
       "items_purchased             0\n",
       "average_rating              0\n",
       "discount_applied            0\n",
       "days_since_last_purchase    0\n",
       "satisfaction_level          2\n",
       "dtype: int64"
      ]
     },
     "execution_count": 46,
     "metadata": {},
     "output_type": "execute_result"
    }
   ],
   "source": [
    "customer_df.isnull().sum()"
   ]
  },
  {
   "cell_type": "markdown",
   "metadata": {},
   "source": [
    "\n",
    "### Explore Categorical columns\n"
   ]
  },
  {
   "cell_type": "code",
   "execution_count": 47,
   "metadata": {},
   "outputs": [
    {
     "name": "stdout",
     "output_type": "stream",
     "text": [
      "+------+\n",
      "|gender|\n",
      "+------+\n",
      "|Female|\n",
      "|  Male|\n",
      "+------+\n",
      "\n"
     ]
    }
   ],
   "source": [
    "customer_data.select(['gender']).distinct().show()"
   ]
  },
  {
   "cell_type": "code",
   "execution_count": 48,
   "metadata": {},
   "outputs": [
    {
     "name": "stdout",
     "output_type": "stream",
     "text": [
      "+-------------+\n",
      "|         city|\n",
      "+-------------+\n",
      "|  Los Angeles|\n",
      "|San Francisco|\n",
      "|      Chicago|\n",
      "|      Houston|\n",
      "|        Miami|\n",
      "|     New York|\n",
      "+-------------+\n",
      "\n"
     ]
    }
   ],
   "source": [
    "customer_data.select(['city']).distinct().show()\n"
   ]
  },
  {
   "cell_type": "code",
   "execution_count": 49,
   "metadata": {},
   "outputs": [
    {
     "name": "stdout",
     "output_type": "stream",
     "text": [
      "+---------------+\n",
      "|membership_type|\n",
      "+---------------+\n",
      "|         Silver|\n",
      "|           Gold|\n",
      "|         Bronze|\n",
      "+---------------+\n",
      "\n"
     ]
    }
   ],
   "source": [
    "customer_data.select(['membership_type']).distinct().show()"
   ]
  },
  {
   "cell_type": "code",
   "execution_count": 50,
   "metadata": {},
   "outputs": [
    {
     "name": "stdout",
     "output_type": "stream",
     "text": [
      "+------------------+\n",
      "|satisfaction_level|\n",
      "+------------------+\n",
      "|       Unsatisfied|\n",
      "|         Satisfied|\n",
      "|           Neutral|\n",
      "|              NULL|\n",
      "+------------------+\n",
      "\n"
     ]
    }
   ],
   "source": [
    "customer_data.select(['satisfaction_level']).distinct().show()"
   ]
  },
  {
   "cell_type": "markdown",
   "metadata": {},
   "source": [
    "# `03` Comprehensive E-Commerce Customer Behavior Analysis"
   ]
  },
  {
   "cell_type": "markdown",
   "metadata": {},
   "source": [
    "## Q1 : Can we segment customers based on their demographic information (Age, Gender, City) and shopping behaviors (Total Spend, Number of Items Purchased, Membership Type)"
   ]
  },
  {
   "cell_type": "markdown",
   "metadata": {},
   "source": [
    "### **Customer Segmentation based on 'Membership', 'Age', 'City', and 'Item Purchased':**\n"
   ]
  },
  {
   "cell_type": "code",
   "execution_count": 51,
   "metadata": {},
   "outputs": [
    {
     "name": "stdout",
     "output_type": "stream",
     "text": [
      "Customer Segmentation Result :  \n",
      "+---------------+-------------+-------------+------------------+--------------------+\n",
      "|membership_type|    age Group|         city|  avg(total_spend)|sum(items_purchased)|\n",
      "+---------------+-------------+-------------+------------------+--------------------+\n",
      "|         Silver|Between 35-50|  Los Angeles|            814.65|                 288|\n",
      "|         Bronze|Between 35-50|      Chicago| 499.8827586206897|                 546|\n",
      "|           Gold|     Under 35|     New York|1165.0355932203393|                 901|\n",
      "|         Silver|     Under 35|  Los Angeles| 799.2114285714289|                 401|\n",
      "|         Bronze|Between 35-50|      Houston|446.89482758620665|                 439|\n",
      "|         Silver|     Under 35|        Miami| 690.3896551724141|                 675|\n",
      "|           Gold|     Under 35|San Francisco|1460.4561403508774|                1141|\n",
      "|           Gold|Between 35-50|San Francisco|            1420.8|                  19|\n",
      "+---------------+-------------+-------------+------------------+--------------------+\n",
      "\n"
     ]
    }
   ],
   "source": [
    "# Create age groups\n",
    "customer_df_age_groups = customer_data.withColumn(\"age Group\",\n",
    "                       when(customer_data[\"age\"] < 35, \"Under 35\")\n",
    "                       .when((customer_data[\"age\"] >= 35) & (customer_data[\"age\"] <= 50), \"Between 35-50\")\n",
    "                       .otherwise(\"Over 50\"))\n",
    "\n",
    "# Group by Membership Type, Age Group, and City\n",
    "customer_segments = customer_df_age_groups.groupBy(\"membership_type\", \"age Group\", \"city\").agg({\n",
    "    \"total_spend\": \"mean\",\n",
    "    \"items_purchased\": \"sum\"\n",
    "})\n",
    "\n",
    "# Group by City separately\n",
    "city_segments = customer_df_age_groups.groupBy(\"city\").agg({\n",
    "    \"total_spend\": \"mean\",\n",
    "    \"items_purchased\": \"sum\"\n",
    "})\n",
    "\n",
    "# Show all segments in a single DataFrame\n",
    "print('Customer Segmentation Result :  ')\n",
    "customer_segments.show()"
   ]
  },
  {
   "cell_type": "markdown",
   "metadata": {},
   "source": [
    "### **Customer Segmentation based on 'City', and 'Item Purchased':**\n"
   ]
  },
  {
   "cell_type": "code",
   "execution_count": 52,
   "metadata": {},
   "outputs": [
    {
     "name": "stdout",
     "output_type": "stream",
     "text": [
      "+-------------+------------------+--------------------+\n",
      "|         city|  avg(total_spend)|sum(items_purchased)|\n",
      "+-------------+------------------+--------------------+\n",
      "|  Los Angeles| 805.4915254237288|                 689|\n",
      "|San Francisco|1459.7724137931039|                1160|\n",
      "|      Chicago| 499.8827586206897|                 546|\n",
      "|      Houston|446.89482758620665|                 439|\n",
      "|        Miami| 690.3896551724141|                 675|\n",
      "|     New York|1165.0355932203393|                 901|\n",
      "+-------------+------------------+--------------------+\n",
      "\n"
     ]
    }
   ],
   "source": [
    "# Show city segments separately\n",
    "city_segments.show()"
   ]
  },
  {
   "cell_type": "markdown",
   "metadata": {},
   "source": [
    "### **Customer Segmentation based on 'Membership', 'City', and 'Item Purchased':**\n"
   ]
  },
  {
   "cell_type": "code",
   "execution_count": 53,
   "metadata": {},
   "outputs": [
    {
     "data": {
      "image/png": "[encoded data removed]",
      "text/plain": [
       "<Figure size 1200x600 with 1 Axes>"
      ]
     },
     "metadata": {},
     "output_type": "display_data"
    }
   ],
   "source": [
    "# Convert Spark DataFrame to Pandas DataFrame\n",
    "customer_segments_pd = customer_segments.toPandas()\n",
    "\n",
    "# Plot Customer Segments\n",
    "plt.figure(figsize=(12, 6))\n",
    "for membership_type, group in customer_segments_pd.groupby('membership_type'):\n",
    "    plt.bar(group['city'] , group['sum(items_purchased)'], label=membership_type)\n",
    "customer_df\n",
    "plt.title('Customer Segments')\n",
    "plt.xlabel('City')\n",
    "plt.ylabel('Total Items Purchased')\n",
    "plt.legend(title='Membership Type')\n",
    "plt.show()"
   ]
  },
  {
   "cell_type": "markdown",
   "metadata": {},
   "source": [
    "## **Customer Segmentation Analysis based on 'Membership', 'Age', 'City', and 'Item Purchased':**\n",
    "\n",
    "#### ○ Gold Members (Under 35 in New York):\n",
    "\n",
    "      • Exhibit the highest average total spending (1165.04) and a substantial sum of items purchased (901) and Indication a potentially \n",
    "       high-value and loyal customer segment.\n",
    "\n",
    "#### ○ Silver Members (Under 35 in Los Angeles):\n",
    "\n",
    "      • Show a considerable sum of items purchased (401) and a moderate average total spending (799.21).\n",
    "      \n",
    "#### ○ Bronze Members (Between 35-50 in Chicago):\n",
    "\n",
    "      • Have a high sum of items purchased (546) but a relatively lower average total spending (499.88).\n",
    "\t\t\n"
   ]
  },
  {
   "cell_type": "markdown",
   "metadata": {},
   "source": [
    "### Customer Segmentation based on their 'Membership Type', 'Total Spend', and 'Items Purchased' **Using Kmeans**. "
   ]
  },
  {
   "cell_type": "code",
   "execution_count": 54,
   "metadata": {},
   "outputs": [
    {
     "name": "stdout",
     "output_type": "stream",
     "text": [
      "+---------------+-----------+---------------+\n",
      "|membership_type|total_spend|items_purchased|\n",
      "+---------------+-----------+---------------+\n",
      "|           Gold|     1120.2|             14|\n",
      "|         Silver|      780.5|             11|\n",
      "|         Bronze|     510.75|              9|\n",
      "+---------------+-----------+---------------+\n",
      "only showing top 3 rows\n",
      "\n",
      "+---------------+-----------+---------------+-----------------+\n",
      "|membership_type|total_spend|items_purchased|         features|\n",
      "+---------------+-----------+---------------+-----------------+\n",
      "|              2|     1120.2|             14|[2.0,1120.2,14.0]|\n",
      "|              1|      780.5|             11| [1.0,780.5,11.0]|\n",
      "|              0|     510.75|              9| [0.0,510.75,9.0]|\n",
      "+---------------+-----------+---------------+-----------------+\n",
      "only showing top 3 rows\n",
      "\n",
      "+---------------+-----------+---------------+-----------------+--------------------+\n",
      "|membership_type|total_spend|items_purchased|         features|     scaled_features|\n",
      "+---------------+-----------+---------------+-----------------+--------------------+\n",
      "|              2|     1120.2|             14|[2.0,1120.2,14.0]|[2.44775198481202...|\n",
      "|              1|      780.5|             11| [1.0,780.5,11.0]|[1.22387599240601...|\n",
      "|              0|     510.75|              9| [0.0,510.75,9.0]|[0.0,1.4106828714...|\n",
      "+---------------+-----------+---------------+-----------------+--------------------+\n",
      "only showing top 3 rows\n",
      "\n"
     ]
    }
   ],
   "source": [
    "# split the columns we want to analyze\n",
    "customer_seg_data = customer_data['membership_type', 'total_spend', 'items_purchased']\n",
    "customer_seg_data.show(3)\n",
    "\n",
    "# # Encoding 'membership_type'\n",
    "customer_seg = customer_seg_data.replace(['Bronze', 'Silver', 'Gold'], ['0', '1', '2'], 'membership_type')\n",
    "customer_seg = customer_seg.withColumn(\"membership_type\", customer_seg['membership_type'].cast('integer'))\n",
    "\n",
    "# Assemble features into a single vector\n",
    "assembler = VectorAssembler(inputCols=['membership_type', 'total_spend', 'items_purchased'],\n",
    "                            outputCol=\"features\")\n",
    "customer_seg = assembler.transform(customer_seg)\n",
    "customer_seg.show(3)\n",
    "\n",
    "# Standardize features\n",
    "scaler = StandardScaler(inputCol=\"features\", outputCol=\"scaled_features\")\n",
    "scaler_model = scaler.fit(customer_seg)\n",
    "scaled_customer_seg = scaler_model.transform(customer_seg)\n",
    "scaled_customer_seg.show(3)"
   ]
  },
  {
   "cell_type": "code",
   "execution_count": 55,
   "metadata": {},
   "outputs": [
    {
     "data": {
      "image/png": "[encoded data removed]",
      "text/plain": [
       "<Figure size 640x480 with 1 Axes>"
      ]
     },
     "metadata": {},
     "output_type": "display_data"
    }
   ],
   "source": [
    "## Find the Best k splits for kmeans\n",
    "# Calculate inertia for different values of k\n",
    "inertia = []\n",
    "for k in range(2, 11):\n",
    "    kmeans = KMeans(k=k)\n",
    "    kmeans.setFeaturesCol(\"scaled_features\")\n",
    "    model = kmeans.fit(scaled_customer_seg)\n",
    "    inertia.append(model.summary.trainingCost)\n",
    "\n",
    "# Plot the inertia values\n",
    "plt.plot(range(2, 11), inertia, marker='o')\n",
    "plt.xlabel('Number of Clusters (k)')\n",
    "plt.ylabel('Inertia')\n",
    "plt.title('Elbow Method for Optimal k')\n",
    "plt.show()"
   ]
  },
  {
   "cell_type": "code",
   "execution_count": 56,
   "metadata": {},
   "outputs": [
    {
     "name": "stderr",
     "output_type": "stream",
     "text": [
      "                                                                                \r"
     ]
    },
    {
     "name": "stdout",
     "output_type": "stream",
     "text": [
      "Silhouette score: 0.9409567254207083\n"
     ]
    }
   ],
   "source": [
    "\n",
    "# Train KMeans model\n",
    "kmeans = KMeans(featuresCol=\"scaled_features\", k= 4, seed=42)  # I have tried 3 and 4, 4 is way higher in Silhouette score\n",
    "# Make predictions\n",
    "predictions = kmeans.fit(scaled_customer_seg).transform(scaled_customer_seg)\n",
    "\n",
    "# Evaluate clustering performance\n",
    "silhouette =  ClusteringEvaluator().evaluate(predictions)\n",
    "print(f\"Silhouette score: {silhouette}\")"
   ]
  },
  {
   "cell_type": "code",
   "execution_count": 57,
   "metadata": {},
   "outputs": [
    {
     "data": {
      "text/plain": [
       "prediction\n",
       "0    117\n",
       "1    116\n",
       "2     59\n",
       "3     58\n",
       "Name: count, dtype: int64"
      ]
     },
     "execution_count": 57,
     "metadata": {},
     "output_type": "execute_result"
    }
   ],
   "source": [
    "cluster_distribution = predictions.select(\"prediction\").toPandas()\n",
    "\n",
    "# Count the occurrences of each cluster label and Rename clusters\n",
    "cluster_distribution_counts = cluster_distribution[\"prediction\"].value_counts().sort_index()\n",
    "cluster_distribution_counts"
   ]
  },
  {
   "cell_type": "code",
   "execution_count": 58,
   "metadata": {},
   "outputs": [
    {
     "data": {
      "image/png": "[encoded data removed]",
      "text/plain": [
       "<Figure size 640x480 with 1 Axes>"
      ]
     },
     "metadata": {},
     "output_type": "display_data"
    },
    {
     "name": "stdout",
     "output_type": "stream",
     "text": [
      "\n",
      "Cluster 0 Sample:\n",
      "\n",
      "+---------------+-----------+---------------+\n",
      "|membership_type|total_spend|items_purchased|\n",
      "+---------------+-----------+---------------+\n",
      "|              1|      780.5|             11|\n",
      "|              1|      720.4|             13|\n",
      "|              1|      800.9|             12|\n",
      "|              1|      690.3|             11|\n",
      "|              1|     820.75|             13|\n",
      "+---------------+-----------+---------------+\n",
      "only showing top 5 rows\n",
      "\n",
      "\n",
      "Cluster 0 Information:\n",
      "\n",
      "  summary membership_type        total_spend     items_purchased\n",
      "0   count             117                117                 117\n",
      "1    mean             1.0  748.4324786324781  11.658119658119658\n",
      "2  stddev             0.0  60.59424951243999  1.1076722498757066\n",
      "3     min               1              660.3                  10\n",
      "4     max               1              830.9                  14\n",
      "\n",
      "Cluster 1 Sample:\n",
      "\n",
      "+---------------+-----------+---------------+\n",
      "|membership_type|total_spend|items_purchased|\n",
      "+---------------+-----------+---------------+\n",
      "|              0|     510.75|              9|\n",
      "|              0|      440.8|              8|\n",
      "|              0|     495.25|             10|\n",
      "|              0|      470.5|              7|\n",
      "|              0|      530.4|              9|\n",
      "+---------------+-----------+---------------+\n",
      "only showing top 5 rows\n",
      "\n",
      "\n",
      "Cluster 1 Information:\n",
      "\n",
      "  summary membership_type         total_spend    items_purchased\n",
      "0   count             116                 116                116\n",
      "1    mean             0.0  473.38879310344856  8.491379310344827\n",
      "2  stddev             0.0   31.29943469846984  1.050843881634287\n",
      "3     min               0               410.8                  7\n",
      "4     max               0               530.4                 10\n",
      "\n",
      "Cluster 2 Sample:\n",
      "\n",
      "+---------------+-----------+---------------+\n",
      "|membership_type|total_spend|items_purchased|\n",
      "+---------------+-----------+---------------+\n",
      "|              2|     1120.2|             14|\n",
      "|              2|     1150.6|             15|\n",
      "|              2|     1200.8|             16|\n",
      "|              2|     1170.3|             14|\n",
      "|              2|     1140.6|             15|\n",
      "+---------------+-----------+---------------+\n",
      "only showing top 5 rows\n",
      "\n",
      "\n",
      "Cluster 2 Information:\n",
      "\n",
      "  summary membership_type         total_spend     items_purchased\n",
      "0   count              59                  59                  59\n",
      "1    mean             2.0  1165.0355932203393  15.271186440677965\n",
      "2  stddev             0.0  24.611861190896484  0.7618151752179042\n",
      "3     min               2              1120.2                  14\n",
      "4     max               2              1210.6                  17\n",
      "\n",
      "Cluster 3 Sample:\n",
      "\n",
      "+---------------+-----------+---------------+\n",
      "|membership_type|total_spend|items_purchased|\n",
      "+---------------+-----------+---------------+\n",
      "|              2|     1480.3|             19|\n",
      "|              2|     1520.1|             21|\n",
      "|              2|     1360.2|             18|\n",
      "|              2|     1470.5|             20|\n",
      "|              2|     1500.1|             21|\n",
      "+---------------+-----------+---------------+\n",
      "only showing top 5 rows\n",
      "\n",
      "\n",
      "Cluster 3 Information:\n",
      "\n",
      "  summary membership_type         total_spend     items_purchased\n",
      "0   count              58                  58                  58\n",
      "1    mean             2.0  1459.7724137931039                20.0\n",
      "2  stddev             0.0  42.241178018459294  1.0760551736979407\n",
      "3     min               2              1360.2                  18\n",
      "4     max               2              1520.1                  21\n"
     ]
    }
   ],
   "source": [
    "class_names = ['Cluster A', 'Cluster B', 'Cluster C', 'Cluster D']\n",
    "\n",
    "# Plot a pie chart\n",
    "plt.pie(cluster_distribution_counts, labels=class_names, autopct='%1.1f%%', startangle=90)\n",
    "plt.title('Cluster Distribution')\n",
    "plt.show()\n",
    "\n",
    "# Print information related to each cluster\n",
    "for cluster_label, count in cluster_distribution_counts.items():\n",
    "    cluster_items = predictions.filter(predictions['prediction'] == cluster_label).select(['membership_type', 'total_spend', 'items_purchased'])\n",
    "    cluster_info = cluster_items.describe().toPandas()\n",
    "    print(f\"\\nCluster {cluster_label} Sample:\\n\")\n",
    "    cluster_items.show(5)\n",
    "    print(f\"\\nCluster {cluster_label} Information:\\n\")\n",
    "    print(cluster_info)\n"
   ]
  },
  {
   "cell_type": "markdown",
   "metadata": {},
   "source": [
    "## **Customer Segmentation Analysis based on 'Membership Type', 'Total Spend' and 'Items Purchased' :**\n",
    "\n",
    "#### ○ Cluster 0:\n",
    "    • Membership Type: All customers in this cluster have a membership type of 1.\n",
    "    • Total Spend: The average total spend is approximately $748.43 with a standard deviation of $60.59.\n",
    "    • Items Purchased: On average, customers in this cluster purchase around 11.66 items with a relatively low standard deviation.\n",
    "\n",
    "#### ○ Cluster 1:\n",
    "    • Membership Type: All customers in this cluster have a membership type of 0.\n",
    "    • Total Spend: The average total spend is around $473.39 with a standard deviation of $31.30.\n",
    "    • Items Purchased: On average, customers in this cluster purchase around 8.49 items with a standard deviation of 1.05.\n",
    "\n",
    "#### ○ Cluster 2:\n",
    "    • Membership Type: All customers in this cluster have a membership type of 2.\n",
    "    • Total Spend: The average total spend is approximately $1165.04 with a standard deviation of $24.61.\n",
    "    • Items Purchased: On average, customers in this cluster purchase around 15.27 items with a relatively low standard deviation.\n",
    "    \n",
    "#### ○ Cluster 3:\n",
    "    • Membership Type: All customers in this cluster have a membership type of 2.\n",
    "    • Total Spend: The average total spend is approximately $1459.77 with a standard deviation of $42.24.\n",
    "    • Items Purchased: On average, customers in this cluster purchase 20 items with a standard deviation of 1.08."
   ]
  },
  {
   "cell_type": "markdown",
   "metadata": {},
   "source": [
    "## Q2 : Which customers are at risk of not making future purchases based on their Days Since Last Purchase and Satisfaction Level"
   ]
  },
  {
   "cell_type": "code",
   "execution_count": 21,
   "metadata": {},
   "outputs": [
    {
     "name": "stdout",
     "output_type": "stream",
     "text": [
      "Customers at Risk Result : \n",
      "+-----------+------+---+-------+---------------+-----------+---------------+--------------+----------------+------------------------+------------------+\n",
      "|customer_id|gender|age|   city|membership_type|total_spend|items_purchased|average_rating|discount_applied|days_since_last_purchase|satisfaction_level|\n",
      "+-----------+------+---+-------+---------------+-----------+---------------+--------------+----------------+------------------------+------------------+\n",
      "|        103|Female| 43|Chicago|         Bronze|     510.75|              9|           3.4|            true|                      42|       Unsatisfied|\n",
      "|        105|  Male| 27|  Miami|         Silver|      720.4|             13|           4.0|            true|                      55|       Unsatisfied|\n",
      "|        109|Female| 41|Chicago|         Bronze|     495.25|             10|           3.6|            true|                      40|       Unsatisfied|\n",
      "|        111|  Male| 32|  Miami|         Silver|      690.3|             11|           3.8|            true|                      34|       Unsatisfied|\n",
      "|        115|Female| 42|Chicago|         Bronze|      530.4|              9|           3.5|            true|                      38|       Unsatisfied|\n",
      "|        117|  Male| 26|  Miami|         Silver|      700.6|             12|           3.7|            true|                      48|       Unsatisfied|\n",
      "|        121|Female| 43|Chicago|         Bronze|     505.75|             10|           3.3|            true|                      41|       Unsatisfied|\n",
      "|        123|  Male| 27|  Miami|         Silver|      710.4|             13|           4.1|            true|                      54|       Unsatisfied|\n",
      "|        127|Female| 41|Chicago|         Bronze|     485.25|              9|           3.6|            true|                      39|       Unsatisfied|\n",
      "|        129|  Male| 32|  Miami|         Silver|      670.3|             10|           3.8|            true|                      33|       Unsatisfied|\n",
      "|        133|Female| 42|Chicago|         Bronze|      520.4|              9|           3.5|            true|                      37|       Unsatisfied|\n",
      "|        135|  Male| 26|  Miami|         Silver|      690.6|             12|           3.9|            true|                      47|       Unsatisfied|\n",
      "|        139|Female| 43|Chicago|         Bronze|     500.75|             10|           3.3|            true|                      40|       Unsatisfied|\n",
      "|        141|  Male| 27|  Miami|         Silver|      700.4|             13|           4.0|            true|                      53|       Unsatisfied|\n",
      "|        145|Female| 41|Chicago|         Bronze|     480.25|              9|           3.6|            true|                      38|       Unsatisfied|\n",
      "|        147|  Male| 32|  Miami|         Silver|      680.3|             10|           3.8|            true|                      32|       Unsatisfied|\n",
      "|        151|Female| 43|Chicago|         Bronze|     505.75|             10|           3.3|            true|                      39|       Unsatisfied|\n",
      "|        153|  Male| 27|  Miami|         Silver|      710.4|             13|           4.1|            true|                      54|       Unsatisfied|\n",
      "|        157|Female| 41|Chicago|         Bronze|     485.25|              9|           3.6|            true|                      39|       Unsatisfied|\n",
      "|        159|  Male| 32|  Miami|         Silver|      670.3|             10|           3.8|            true|                      33|       Unsatisfied|\n",
      "+-----------+------+---+-------+---------------+-----------+---------------+--------------+----------------+------------------------+------------------+\n",
      "only showing top 20 rows\n",
      "\n"
     ]
    }
   ],
   "source": [
    "# Filtering customers at risk based on Days Since Last Purchase and Satisfaction Level\n",
    "at_risk_customers = customer_data.filter((customer_data[\"days_since_last_purchase\"] > 30) & (customer_data[\"satisfaction_level\"] == \"Unsatisfied\"))\n",
    "\n",
    "# Show customers at risk\n",
    "print('Customers at Risk Result : ')\n",
    "at_risk_customers.show()"
   ]
  },
  {
   "cell_type": "markdown",
   "metadata": {},
   "source": [
    "## **Customers Risk Analysis :**\n",
    "\n",
    "• The result provides a list of customers who have not made a purchase within the duration ranges from **32 to 55 days and have expressed**                  dissatisfaction.\n",
    "\n",
    "• The identified at-risk customers are primarily from the Bronze and Silver membership types.\n",
    "\n",
    "• Indicates that customers with lower-tier memberships might be more prone to dissatisfaction.\n",
    "\t\n",
    "\n"
   ]
  },
  {
   "cell_type": "markdown",
   "metadata": {},
   "source": [
    "# `04` Data Preprocessing"
   ]
  },
  {
   "cell_type": "markdown",
   "metadata": {},
   "source": [
    "## Drop Nulls and Customer IDs"
   ]
  },
  {
   "cell_type": "code",
   "execution_count": 59,
   "metadata": {},
   "outputs": [],
   "source": [
    "# Drop the \"Customer ID\" column\n",
    "customer_data = customer_data.drop(\"customer_id\")\n",
    "# Handling missing values\n",
    "customer_data = customer_data.na.drop()"
   ]
  },
  {
   "cell_type": "markdown",
   "metadata": {},
   "source": [
    "\n",
    "## Encode Categorical Columns\n"
   ]
  },
  {
   "cell_type": "code",
   "execution_count": 60,
   "metadata": {},
   "outputs": [
    {
     "data": {
      "text/plain": [
       "['gender', 'city', 'membership_type', 'satisfaction_level']"
      ]
     },
     "execution_count": 60,
     "metadata": {},
     "output_type": "execute_result"
    }
   ],
   "source": [
    "# Define string columns to be encoded\n",
    "string_cols = [col_name for col_name, data_type in customer_data.dtypes if data_type == \"string\"]\n",
    "string_cols"
   ]
  },
  {
   "cell_type": "code",
   "execution_count": 61,
   "metadata": {},
   "outputs": [],
   "source": [
    "# Fit StringIndexers on training set\n",
    "indexers = [StringIndexer(inputCol=col_name, outputCol=f\"{col_name}_index\", handleInvalid='skip').setHandleInvalid(\"keep\") for col_name in string_cols]\n"
   ]
  },
  {
   "cell_type": "code",
   "execution_count": 62,
   "metadata": {},
   "outputs": [],
   "source": [
    "# Apply transformations using transform method\n",
    "numeric_cols = ['age', 'total_spend', 'items_purchased', 'discount_applied', 'average_rating', 'days_since_last_purchase']\n",
    "assembler = VectorAssembler(inputCols=numeric_cols + [f\"{col_name}_index\" for col_name in string_cols], outputCol=\"features\")"
   ]
  },
  {
   "cell_type": "code",
   "execution_count": 63,
   "metadata": {},
   "outputs": [],
   "source": [
    "# scaling\n",
    "scaler = StandardScaler(inputCol=\"features\", outputCol=\"scaled_features\")"
   ]
  },
  {
   "cell_type": "markdown",
   "metadata": {},
   "source": [
    "## Train and Test Split \n"
   ]
  },
  {
   "cell_type": "code",
   "execution_count": 64,
   "metadata": {},
   "outputs": [
    {
     "name": "stdout",
     "output_type": "stream",
     "text": [
      "There are 295 rows in the training set, and 53 in the test set\n",
      "+------+---+--------+---------------+-----------+---------------+--------------+----------------+------------------------+------------------+\n",
      "|gender|age|    city|membership_type|total_spend|items_purchased|average_rating|discount_applied|days_since_last_purchase|satisfaction_level|\n",
      "+------+---+--------+---------------+-----------+---------------+--------------+----------------+------------------------+------------------+\n",
      "|Female| 29|   Miami|         Silver|      730.4|             14|           4.0|            true|                      50|       Unsatisfied|\n",
      "|Female| 29|New York|           Gold|     1120.2|             14|           4.6|            true|                      25|         Satisfied|\n",
      "+------+---+--------+---------------+-----------+---------------+--------------+----------------+------------------------+------------------+\n",
      "only showing top 2 rows\n",
      "\n"
     ]
    }
   ],
   "source": [
    "# Split the data into training and testing sets\n",
    "trainDF, testDF = customer_data.randomSplit([.8, .2], seed=42)\n",
    "print(f\"There are {trainDF.count()} rows in the training set, and {testDF.count()} in the test set\")\n",
    "\n",
    "trainDF.show(2)"
   ]
  },
  {
   "cell_type": "markdown",
   "metadata": {},
   "source": [
    "## Train the pipeline model using the trainig dataset"
   ]
  },
  {
   "cell_type": "code",
   "execution_count": 65,
   "metadata": {},
   "outputs": [],
   "source": [
    "# Create a pipeline for simplicity\n",
    "pipeline = Pipeline(stages=indexers + [assembler, scaler])\n",
    "pipeline_model = pipeline.fit(trainDF)"
   ]
  },
  {
   "cell_type": "code",
   "execution_count": 66,
   "metadata": {},
   "outputs": [
    {
     "name": "stdout",
     "output_type": "stream",
     "text": [
      "+------+---+--------+---------------+-----------+---------------+--------------+----------------+------------------------+------------------+------------+----------+---------------------+------------------------+--------------------+--------------------+\n",
      "|gender|age|    city|membership_type|total_spend|items_purchased|average_rating|discount_applied|days_since_last_purchase|satisfaction_level|gender_index|city_index|membership_type_index|satisfaction_level_index|            features|     scaled_features|\n",
      "+------+---+--------+---------------+-----------+---------------+--------------+----------------+------------------------+------------------+------------+----------+---------------------+------------------------+--------------------+--------------------+\n",
      "|Female| 29|   Miami|         Silver|      730.4|             14|           4.0|            true|                      50|       Unsatisfied|         1.0|       0.0|                  0.0|                     0.0|[29.0,730.4,14.0,...|[5.91683789175955...|\n",
      "|Female| 29|New York|           Gold|     1120.2|             14|           4.6|            true|                      25|         Satisfied|         1.0|       5.0|                  2.0|                     1.0|[29.0,1120.2,14.0...|[5.91683789175955...|\n",
      "|Female| 30|New York|           Gold|     1180.8|             16|           4.7|            true|                      19|         Satisfied|         1.0|       5.0|                  2.0|                     1.0|[30.0,1180.8,16.0...|[6.12086678457884...|\n",
      "|Female| 30|New York|           Gold|     1180.8|             16|           4.7|            true|                      19|         Satisfied|         1.0|       5.0|                  2.0|                     1.0|[30.0,1180.8,16.0...|[6.12086678457884...|\n",
      "|Female| 30|New York|           Gold|     1180.8|             16|           4.7|            true|                      19|         Satisfied|         1.0|       5.0|                  2.0|                     1.0|[30.0,1180.8,16.0...|[6.12086678457884...|\n",
      "+------+---+--------+---------------+-----------+---------------+--------------+----------------+------------------------+------------------+------------+----------+---------------------+------------------------+--------------------+--------------------+\n",
      "only showing top 5 rows\n",
      "\n"
     ]
    }
   ],
   "source": [
    "# check the types after encoding\n",
    "df_transformed_train = pipeline_model.transform(trainDF)\n",
    "df_transformed_test = pipeline_model.transform(testDF)\n",
    "\n",
    "df_transformed_train.show(5)"
   ]
  },
  {
   "cell_type": "code",
   "execution_count": null,
   "metadata": {},
   "outputs": [],
   "source": [
    "# save the pipeline\n",
    "pipeline_model.save('preprocessing_pipeline_model')"
   ]
  },
  {
   "cell_type": "markdown",
   "metadata": {},
   "source": [
    "# `05` Model Pipeline Intialization\n",
    "- Create the logistic regression classifier.\n",
    "- Build the pipeline model that uses all feature engineering steps and the model.\n",
    "- Train the pipeline model using the trainig dataset."
   ]
  },
  {
   "cell_type": "markdown",
   "metadata": {},
   "source": [
    "## Logistic regression classifier"
   ]
  },
  {
   "cell_type": "code",
   "execution_count": 71,
   "metadata": {},
   "outputs": [],
   "source": [
    "#intialize the model\n",
    "Logistic_model = LogisticRegression(featuresCol='scaled_features',\n",
    "                                    labelCol='satisfaction_level_index',\n",
    "                                    predictionCol='prediction').fit(df_transformed_train)"
   ]
  },
  {
   "cell_type": "code",
   "execution_count": 76,
   "metadata": {},
   "outputs": [
    {
     "name": "stdout",
     "output_type": "stream",
     "text": [
      "+----------+------------------------+\n",
      "|prediction|satisfaction_level_index|\n",
      "+----------+------------------------+\n",
      "|       1.0|                     1.0|\n",
      "|       1.0|                     1.0|\n",
      "|       1.0|                     1.0|\n",
      "+----------+------------------------+\n",
      "only showing top 3 rows\n",
      "\n"
     ]
    }
   ],
   "source": [
    "predictions = Logistic_model.transform(df_transformed_test)\n",
    "predictions.select(['prediction', 'satisfaction_level_index']).filter(fn.col('satisfaction_level_index') == 1).show(3)"
   ]
  },
  {
   "cell_type": "markdown",
   "metadata": {},
   "source": [
    "# `06` Predection Model Evaluation"
   ]
  },
  {
   "cell_type": "code",
   "execution_count": 77,
   "metadata": {},
   "outputs": [
    {
     "name": "stdout",
     "output_type": "stream",
     "text": [
      "Test-set Accuracy is :  1.0\n"
     ]
    }
   ],
   "source": [
    "# Evaluate the accuracy on the test set\n",
    "evaluator = MulticlassClassificationEvaluator(labelCol=\"satisfaction_level_index\", predictionCol=\"prediction\", metricName=\"accuracy\")\n",
    "print(\"Test-set Accuracy is : \", evaluator.evaluate(predictions))"
   ]
  },
  {
   "cell_type": "code",
   "execution_count": 78,
   "metadata": {},
   "outputs": [
    {
     "name": "stderr",
     "output_type": "stream",
     "text": [
      "/home/salma/anaconda3/envs/myenv/lib/python3.9/site-packages/pyspark/sql/context.py:158: FutureWarning: Deprecated in 3.0.0. Use SparkSession.builder.getOrCreate() instead.\n",
      "  warnings.warn(\n"
     ]
    },
    {
     "data": {
      "text/plain": [
       "<Axes: >"
      ]
     },
     "execution_count": 78,
     "metadata": {},
     "output_type": "execute_result"
    },
    {
     "data": {
      "image/png": "[encoded data removed]",
      "text/plain": [
       "<Figure size 700x700 with 1 Axes>"
      ]
     },
     "metadata": {},
     "output_type": "display_data"
    }
   ],
   "source": [
    "# Convert predictions and Satisfaction Level_indexs to RDD for MulticlassMetrics\n",
    "prediction_and_Satisfaction = predictions.select(\"prediction\", \"satisfaction_level_index\").rdd.map(lambda row: (float(row[\"prediction\"]), float(row[\"satisfaction_level_index\"])))\n",
    "\n",
    "# Instantiate the MulticlassMetrics\n",
    "metrics = MulticlassMetrics(prediction_and_Satisfaction)\n",
    "\n",
    "# Get the confusion matrix\n",
    "confusion_matrix = metrics.confusionMatrix().toArray()\n",
    "\n",
    "# Plot the confusion matrix\n",
    "# Unsatisfied: 1, Satisfied: 0, Neutral: 2\n",
    "classes = [\"Satisfied\", \"Unsatisfied\", \"Neutral\"]\n",
    "_ = plt.figure(figsize=(7, 7))\n",
    "sns.heatmap(metrics.confusionMatrix().toArray(),\n",
    "            cmap='viridis',\n",
    "            annot=True,fmt='0',\n",
    "            cbar=False, \n",
    "            xticklabels=classes, \n",
    "            yticklabels=classes)"
   ]
  },
  {
   "cell_type": "markdown",
   "metadata": {},
   "source": [
    "Data seems to be a little bit perfect :D "
   ]
  },
  {
   "cell_type": "markdown",
   "metadata": {},
   "source": [
    "# `07` Isolation Forests For anomaly Detection\n",
    "\n",
    "Why?\n",
    "\n",
    "- It's an ensemble method based on decision trees and is efficient for detecting outliers.\n",
    "- Does not assume any specific shape or distribution of the data.\n",
    "- Can be adapted for streaming data by updating the existing forest as new data points arrive.\n",
    "- It is relatively efficient and scalable for adding new data points."
   ]
  },
  {
   "cell_type": "code",
   "execution_count": 32,
   "metadata": {},
   "outputs": [
    {
     "name": "stderr",
     "output_type": "stream",
     "text": [
      "                                                                                \r"
     ]
    }
   ],
   "source": [
    "from sklearn.ensemble import IsolationForest\n",
    "\n",
    "\n",
    "# Extract feature vectors from the DataFrame\n",
    "train_features = np.array(df_transformed_train.select('scaled_features').rdd.map(lambda x: x[0]).collect())\n",
    "test_features = np.array(df_transformed_test.select('scaled_features').rdd.map(lambda x: x[0]).collect())\n",
    "\n",
    "\n",
    "\n",
    "# Initialize and fit the Isolation Forest model\n",
    "iso_forest = IsolationForest(random_state=42, contamination=0.05)\n",
    "iso_model = iso_forest.fit(train_features)\n"
   ]
  },
  {
   "cell_type": "code",
   "execution_count": 33,
   "metadata": {},
   "outputs": [
    {
     "data": {
      "text/html": [
       "<div>\n",
       "<style scoped>\n",
       "    .dataframe tbody tr th:only-of-type {\n",
       "        vertical-align: middle;\n",
       "    }\n",
       "\n",
       "    .dataframe tbody tr th {\n",
       "        vertical-align: top;\n",
       "    }\n",
       "\n",
       "    .dataframe thead th {\n",
       "        text-align: right;\n",
       "    }\n",
       "</style>\n",
       "<table border=\"1\" class=\"dataframe\">\n",
       "  <thead>\n",
       "    <tr style=\"text-align: right;\">\n",
       "      <th></th>\n",
       "      <th>gender</th>\n",
       "      <th>age</th>\n",
       "      <th>city</th>\n",
       "      <th>membership_type</th>\n",
       "      <th>total_spend</th>\n",
       "      <th>items_purchased</th>\n",
       "      <th>average_rating</th>\n",
       "      <th>discount_applied</th>\n",
       "      <th>days_since_last_purchase</th>\n",
       "      <th>satisfaction_level</th>\n",
       "      <th>gender_index</th>\n",
       "      <th>city_index</th>\n",
       "      <th>membership_type_index</th>\n",
       "      <th>satisfaction_level_index</th>\n",
       "      <th>features</th>\n",
       "      <th>scaled_features</th>\n",
       "    </tr>\n",
       "  </thead>\n",
       "  <tbody>\n",
       "    <tr>\n",
       "      <th>20</th>\n",
       "      <td>Female</td>\n",
       "      <td>41</td>\n",
       "      <td>Chicago</td>\n",
       "      <td>Bronze</td>\n",
       "      <td>475.25</td>\n",
       "      <td>9</td>\n",
       "      <td>3.6</td>\n",
       "      <td>True</td>\n",
       "      <td>46</td>\n",
       "      <td>Unsatisfied</td>\n",
       "      <td>1.0</td>\n",
       "      <td>4.0</td>\n",
       "      <td>1.0</td>\n",
       "      <td>0.0</td>\n",
       "      <td>[41.0, 475.25, 9.0, 1.0, 3.6, 46.0, 1.0, 4.0, ...</td>\n",
       "      <td>[8.365184605591091, 1.311911163220853, 2.14837...</td>\n",
       "    </tr>\n",
       "    <tr>\n",
       "      <th>21</th>\n",
       "      <td>Female</td>\n",
       "      <td>41</td>\n",
       "      <td>Chicago</td>\n",
       "      <td>Bronze</td>\n",
       "      <td>475.25</td>\n",
       "      <td>9</td>\n",
       "      <td>3.6</td>\n",
       "      <td>True</td>\n",
       "      <td>48</td>\n",
       "      <td>Unsatisfied</td>\n",
       "      <td>1.0</td>\n",
       "      <td>4.0</td>\n",
       "      <td>1.0</td>\n",
       "      <td>0.0</td>\n",
       "      <td>[41.0, 475.25, 9.0, 1.0, 3.6, 48.0, 1.0, 4.0, ...</td>\n",
       "      <td>[8.365184605591091, 1.311911163220853, 2.14837...</td>\n",
       "    </tr>\n",
       "  </tbody>\n",
       "</table>\n",
       "</div>"
      ],
      "text/plain": [
       "    gender  age     city membership_type  total_spend  items_purchased  \\\n",
       "20  Female   41  Chicago          Bronze       475.25                9   \n",
       "21  Female   41  Chicago          Bronze       475.25                9   \n",
       "\n",
       "    average_rating  discount_applied  days_since_last_purchase  \\\n",
       "20             3.6              True                        46   \n",
       "21             3.6              True                        48   \n",
       "\n",
       "   satisfaction_level  gender_index  city_index  membership_type_index  \\\n",
       "20        Unsatisfied           1.0         4.0                    1.0   \n",
       "21        Unsatisfied           1.0         4.0                    1.0   \n",
       "\n",
       "    satisfaction_level_index  \\\n",
       "20                       0.0   \n",
       "21                       0.0   \n",
       "\n",
       "                                             features  \\\n",
       "20  [41.0, 475.25, 9.0, 1.0, 3.6, 46.0, 1.0, 4.0, ...   \n",
       "21  [41.0, 475.25, 9.0, 1.0, 3.6, 48.0, 1.0, 4.0, ...   \n",
       "\n",
       "                                      scaled_features  \n",
       "20  [8.365184605591091, 1.311911163220853, 2.14837...  \n",
       "21  [8.365184605591091, 1.311911163220853, 2.14837...  "
      ]
     },
     "execution_count": 33,
     "metadata": {},
     "output_type": "execute_result"
    }
   ],
   "source": [
    "# Assuming iso_model.predict(test_features) returns a NumPy array\n",
    "predictions = iso_model.predict(test_features)\n",
    "\n",
    "# Find the indices where the value is -1 (anomalies)\n",
    "anomaly_indices = np.where(predictions == -1)[0]\n",
    "\n",
    "# Show the anomalies\n",
    "df_transformed_test = df_transformed_test.toPandas()\n",
    "df_transformed_test.iloc[anomaly_indices]\n"
   ]
  },
  {
   "cell_type": "code",
   "execution_count": 35,
   "metadata": {},
   "outputs": [
    {
     "data": {
      "text/plain": [
       "(53, 16)"
      ]
     },
     "execution_count": 35,
     "metadata": {},
     "output_type": "execute_result"
    }
   ],
   "source": [
    "df_transformed_test.shape"
   ]
  },
  {
   "cell_type": "code",
   "execution_count": 142,
   "metadata": {},
   "outputs": [
    {
     "data": {
      "image/png": "[encoded data removed]",
      "text/plain": [
       "<Figure size 800x550 with 1 Axes>"
      ]
     },
     "metadata": {},
     "output_type": "display_data"
    }
   ],
   "source": [
    "from sklearn.decomposition import PCA\n",
    "\n",
    "# Fit PCA on the training features\n",
    "pca = PCA(n_components=2, random_state=42)\n",
    "train_features_pca = pca.fit_transform(train_features)\n",
    "\n",
    "# Project the test features onto the learned PCA space\n",
    "test_features_pca = pca.transform(test_features)\n",
    "\n",
    "# Get the predictions from the Isolation Forest model\n",
    "predictions = iso_model.predict(test_features)\n",
    "\n",
    "# Plot the normal data points\n",
    "plt.scatter(test_features_pca[predictions == 1, 0], test_features_pca[predictions == 1, 1], c='blue', label='Normal')\n",
    "\n",
    "# Plot the anomalies\n",
    "plt.scatter(test_features_pca[predictions == -1, 0], test_features_pca[predictions == -1, 1], c='red', label='Anomaly')\n",
    "\n",
    "plt.title('Isolation Forest Anomaly Detection (PCA)')\n",
    "plt.xlabel('Principal Component 1')\n",
    "plt.ylabel('Principal Component 2')\n",
    "plt.legend()\n",
    "plt.show()\n"
   ]
  },
  {
   "cell_type": "code",
   "execution_count": null,
   "metadata": {},
   "outputs": [],
   "source": [
    "# save the model \n",
    "from joblib import dump\n",
    "\n",
    "dump(iso_model, './isolation_forest.joblib')"
   ]
  }
 ],
 "metadata": {
  "kernelspec": {
   "display_name": "Python 3",
   "language": "python",
   "name": "python3"
  },
  "language_info": {
   "codemirror_mode": {
    "name": "ipython",
    "version": 3
   },
   "file_extension": ".py",
   "mimetype": "text/x-python",
   "name": "python",
   "nbconvert_exporter": "python",
   "pygments_lexer": "ipython3",
   "version": "3.9.18"
  }
 },
 "nbformat": 4,
 "nbformat_minor": 2
}
